{
 "cells": [
  {
   "cell_type": "code",
   "execution_count": 1,
   "metadata": {},
   "outputs": [],
   "source": [
    "import torch\n",
    "from torch.utils.data import DataLoader\n",
    "from trainer import GeneralTrainer\n",
    "from model import WaveGlow\n",
    "from utils import weights_init_xavier_uniform\n",
    "from dataset import load_ljspeech_dataset\n",
    "import matplotlib.pyplot as plt\n",
    "import seaborn as sns"
   ]
  },
  {
   "cell_type": "code",
   "execution_count": 2,
   "metadata": {},
   "outputs": [],
   "source": [
    "from config import Config\n",
    "config = Config()"
   ]
  },
  {
   "cell_type": "code",
   "execution_count": 3,
   "metadata": {},
   "outputs": [],
   "source": [
    "trainset, testset = load_ljspeech_dataset(config)\n",
    "train_loader = DataLoader(trainset, batch_size=config.batch_size, pin_memory=True, shuffle=True, num_workers=config.num_workers)\n",
    "test_loader = DataLoader(testset, batch_size=config.batch_size, pin_memory=True)#, num_workers=config.num_workers)"
   ]
  },
  {
   "cell_type": "code",
   "execution_count": 4,
   "metadata": {},
   "outputs": [
    {
     "name": "stdout",
     "output_type": "stream",
     "text": [
      "cuda\n"
     ]
    }
   ],
   "source": [
    "device = torch.device('cuda' if torch.cuda.is_available() else 'cpu')\n",
    "# device = 'cpu'\n",
    "\n",
    "print(device)"
   ]
  },
  {
   "cell_type": "code",
   "execution_count": 5,
   "metadata": {},
   "outputs": [],
   "source": [
    "model = WaveGlow(config.n_mels, config.n_flows, config.n_groups, config.n_early_every, config.n_early_size, win_length=config.win_length, hop_length=config.hop_length, sigma=config.training_std, wn_config=config.wn_config)\n",
    "loss_func = lambda t,_: t # model will return the loss directly\n",
    "optimizer_builder = lambda model: torch.optim.Adam(model.parameters(), lr=config.lr)"
   ]
  },
  {
   "cell_type": "code",
   "execution_count": 6,
   "metadata": {},
   "outputs": [],
   "source": [
    "trainer = GeneralTrainer(model, \n",
    "                         optimizer_builder, \n",
    "                         loss_func,\n",
    "                         score_metric={},\n",
    "                         checkpoint_dir=config.check_point_folder)\n",
    "\n",
    "trainer.set_tqdm_for_notebook(True)"
   ]
  },
  {
   "cell_type": "code",
   "execution_count": 7,
   "metadata": {},
   "outputs": [],
   "source": [
    "reset = True\n",
    "if config.train_after is not None:\n",
    "    trainer.load_data( config.train_after)\n",
    "    reset = False"
   ]
  },
  {
   "cell_type": "code",
   "execution_count": null,
   "metadata": {
    "scrolled": true
   },
   "outputs": [],
   "source": [
    "result = trainer.train(train_loader, val_loader=test_loader, epochs=config.epochs, device=device, reset=reset, cp_filename=config.check_point_file, cp_period=config.check_point_period)"
   ]
  },
  {
   "cell_type": "code",
   "execution_count": null,
   "metadata": {},
   "outputs": [],
   "source": [
    "##\n",
    "# plot the losses\n",
    "sns.lineplot(x='epoch', y='train loss', data=result, label='Train Loss')\n",
    "sns.lineplot(x='epoch', y='val loss', data=result, label='Val Loss')\n",
    "plt.show()"
   ]
  }
 ],
 "metadata": {
  "kernelspec": {
   "display_name": "Python 3 (ipykernel)",
   "language": "python",
   "name": "python3"
  },
  "language_info": {
   "codemirror_mode": {
    "name": "ipython",
    "version": 3
   },
   "file_extension": ".py",
   "mimetype": "text/x-python",
   "name": "python",
   "nbconvert_exporter": "python",
   "pygments_lexer": "ipython3",
   "version": "3.9.7"
  },
  "vscode": {
   "interpreter": {
    "hash": "11b29b0310db0059823682c46597dd42af12889b09ee40e1bff7f56965d14a07"
   }
  }
 },
 "nbformat": 4,
 "nbformat_minor": 2
}
